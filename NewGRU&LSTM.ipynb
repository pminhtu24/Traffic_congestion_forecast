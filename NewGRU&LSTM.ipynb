{
  "nbformat": 4,
  "nbformat_minor": 0,
  "metadata": {
    "colab": {
      "provenance": []
    },
    "kernelspec": {
      "name": "python3",
      "display_name": "Python 3"
    },
    "language_info": {
      "name": "python"
    }
  },
  "cells": [
    {
      "cell_type": "code",
      "source": [
        "from google.colab import drive\n",
        "drive.mount('/content/drive')"
      ],
      "metadata": {
        "colab": {
          "base_uri": "https://localhost:8080/"
        },
        "id": "QERrhX1aU50T",
        "outputId": "52b8b290-db3f-4ae7-f32a-ed3028fec732"
      },
      "execution_count": null,
      "outputs": [
        {
          "output_type": "stream",
          "name": "stdout",
          "text": [
            "Mounted at /content/drive\n"
          ]
        }
      ]
    },
    {
      "cell_type": "code",
      "source": [
        "%cd /content/drive/MyDrive/GRU/Test"
      ],
      "metadata": {
        "colab": {
          "base_uri": "https://localhost:8080/"
        },
        "id": "b85GqDhBU89S",
        "outputId": "f4536f40-99ac-4249-a9d6-3669f4a3bd42"
      },
      "execution_count": null,
      "outputs": [
        {
          "output_type": "stream",
          "name": "stdout",
          "text": [
            "/content/drive/MyDrive/GRU/Test\n"
          ]
        }
      ]
    },
    {
      "cell_type": "code",
      "source": [
        "!pip install tensorflow\n"
      ],
      "metadata": {
        "colab": {
          "base_uri": "https://localhost:8080/"
        },
        "id": "0YH_89MeW00L",
        "outputId": "9f835acc-2ce6-4b93-bb58-1d3c11609e95",
        "collapsed": true
      },
      "execution_count": null,
      "outputs": [
        {
          "output_type": "stream",
          "name": "stdout",
          "text": [
            "Requirement already satisfied: tensorflow in /usr/local/lib/python3.11/dist-packages (2.18.0)\n",
            "Requirement already satisfied: absl-py>=1.0.0 in /usr/local/lib/python3.11/dist-packages (from tensorflow) (1.4.0)\n",
            "Requirement already satisfied: astunparse>=1.6.0 in /usr/local/lib/python3.11/dist-packages (from tensorflow) (1.6.3)\n",
            "Requirement already satisfied: flatbuffers>=24.3.25 in /usr/local/lib/python3.11/dist-packages (from tensorflow) (25.2.10)\n",
            "Requirement already satisfied: gast!=0.5.0,!=0.5.1,!=0.5.2,>=0.2.1 in /usr/local/lib/python3.11/dist-packages (from tensorflow) (0.6.0)\n",
            "Requirement already satisfied: google-pasta>=0.1.1 in /usr/local/lib/python3.11/dist-packages (from tensorflow) (0.2.0)\n",
            "Requirement already satisfied: libclang>=13.0.0 in /usr/local/lib/python3.11/dist-packages (from tensorflow) (18.1.1)\n",
            "Requirement already satisfied: opt-einsum>=2.3.2 in /usr/local/lib/python3.11/dist-packages (from tensorflow) (3.4.0)\n",
            "Requirement already satisfied: packaging in /usr/local/lib/python3.11/dist-packages (from tensorflow) (24.2)\n",
            "Requirement already satisfied: protobuf!=4.21.0,!=4.21.1,!=4.21.2,!=4.21.3,!=4.21.4,!=4.21.5,<6.0.0dev,>=3.20.3 in /usr/local/lib/python3.11/dist-packages (from tensorflow) (5.29.5)\n",
            "Requirement already satisfied: requests<3,>=2.21.0 in /usr/local/lib/python3.11/dist-packages (from tensorflow) (2.32.3)\n",
            "Requirement already satisfied: setuptools in /usr/local/lib/python3.11/dist-packages (from tensorflow) (75.2.0)\n",
            "Requirement already satisfied: six>=1.12.0 in /usr/local/lib/python3.11/dist-packages (from tensorflow) (1.17.0)\n",
            "Requirement already satisfied: termcolor>=1.1.0 in /usr/local/lib/python3.11/dist-packages (from tensorflow) (3.1.0)\n",
            "Requirement already satisfied: typing-extensions>=3.6.6 in /usr/local/lib/python3.11/dist-packages (from tensorflow) (4.14.0)\n",
            "Requirement already satisfied: wrapt>=1.11.0 in /usr/local/lib/python3.11/dist-packages (from tensorflow) (1.17.2)\n",
            "Requirement already satisfied: grpcio<2.0,>=1.24.3 in /usr/local/lib/python3.11/dist-packages (from tensorflow) (1.73.0)\n",
            "Requirement already satisfied: tensorboard<2.19,>=2.18 in /usr/local/lib/python3.11/dist-packages (from tensorflow) (2.18.0)\n",
            "Requirement already satisfied: keras>=3.5.0 in /usr/local/lib/python3.11/dist-packages (from tensorflow) (3.8.0)\n",
            "Requirement already satisfied: numpy<2.1.0,>=1.26.0 in /usr/local/lib/python3.11/dist-packages (from tensorflow) (2.0.2)\n",
            "Requirement already satisfied: h5py>=3.11.0 in /usr/local/lib/python3.11/dist-packages (from tensorflow) (3.14.0)\n",
            "Requirement already satisfied: ml-dtypes<0.5.0,>=0.4.0 in /usr/local/lib/python3.11/dist-packages (from tensorflow) (0.4.1)\n",
            "Requirement already satisfied: tensorflow-io-gcs-filesystem>=0.23.1 in /usr/local/lib/python3.11/dist-packages (from tensorflow) (0.37.1)\n",
            "Requirement already satisfied: wheel<1.0,>=0.23.0 in /usr/local/lib/python3.11/dist-packages (from astunparse>=1.6.0->tensorflow) (0.45.1)\n",
            "Requirement already satisfied: rich in /usr/local/lib/python3.11/dist-packages (from keras>=3.5.0->tensorflow) (13.9.4)\n",
            "Requirement already satisfied: namex in /usr/local/lib/python3.11/dist-packages (from keras>=3.5.0->tensorflow) (0.1.0)\n",
            "Requirement already satisfied: optree in /usr/local/lib/python3.11/dist-packages (from keras>=3.5.0->tensorflow) (0.16.0)\n",
            "Requirement already satisfied: charset-normalizer<4,>=2 in /usr/local/lib/python3.11/dist-packages (from requests<3,>=2.21.0->tensorflow) (3.4.2)\n",
            "Requirement already satisfied: idna<4,>=2.5 in /usr/local/lib/python3.11/dist-packages (from requests<3,>=2.21.0->tensorflow) (3.10)\n",
            "Requirement already satisfied: urllib3<3,>=1.21.1 in /usr/local/lib/python3.11/dist-packages (from requests<3,>=2.21.0->tensorflow) (2.4.0)\n",
            "Requirement already satisfied: certifi>=2017.4.17 in /usr/local/lib/python3.11/dist-packages (from requests<3,>=2.21.0->tensorflow) (2025.6.15)\n",
            "Requirement already satisfied: markdown>=2.6.8 in /usr/local/lib/python3.11/dist-packages (from tensorboard<2.19,>=2.18->tensorflow) (3.8)\n",
            "Requirement already satisfied: tensorboard-data-server<0.8.0,>=0.7.0 in /usr/local/lib/python3.11/dist-packages (from tensorboard<2.19,>=2.18->tensorflow) (0.7.2)\n",
            "Requirement already satisfied: werkzeug>=1.0.1 in /usr/local/lib/python3.11/dist-packages (from tensorboard<2.19,>=2.18->tensorflow) (3.1.3)\n",
            "Requirement already satisfied: MarkupSafe>=2.1.1 in /usr/local/lib/python3.11/dist-packages (from werkzeug>=1.0.1->tensorboard<2.19,>=2.18->tensorflow) (3.0.2)\n",
            "Requirement already satisfied: markdown-it-py>=2.2.0 in /usr/local/lib/python3.11/dist-packages (from rich->keras>=3.5.0->tensorflow) (3.0.0)\n",
            "Requirement already satisfied: pygments<3.0.0,>=2.13.0 in /usr/local/lib/python3.11/dist-packages (from rich->keras>=3.5.0->tensorflow) (2.19.1)\n",
            "Requirement already satisfied: mdurl~=0.1 in /usr/local/lib/python3.11/dist-packages (from markdown-it-py>=2.2.0->rich->keras>=3.5.0->tensorflow) (0.1.2)\n"
          ]
        }
      ]
    },
    {
      "cell_type": "code",
      "source": [
        "!pip install keras"
      ],
      "metadata": {
        "colab": {
          "base_uri": "https://localhost:8080/"
        },
        "id": "AoOJ4K_IGZVz",
        "outputId": "b67e03f0-306e-4103-e767-a27fa1960faf",
        "collapsed": true
      },
      "execution_count": null,
      "outputs": [
        {
          "output_type": "stream",
          "name": "stdout",
          "text": [
            "Requirement already satisfied: keras in /usr/local/lib/python3.11/dist-packages (3.8.0)\n",
            "Requirement already satisfied: absl-py in /usr/local/lib/python3.11/dist-packages (from keras) (1.4.0)\n",
            "Requirement already satisfied: numpy in /usr/local/lib/python3.11/dist-packages (from keras) (2.0.2)\n",
            "Requirement already satisfied: rich in /usr/local/lib/python3.11/dist-packages (from keras) (13.9.4)\n",
            "Requirement already satisfied: namex in /usr/local/lib/python3.11/dist-packages (from keras) (0.1.0)\n",
            "Requirement already satisfied: h5py in /usr/local/lib/python3.11/dist-packages (from keras) (3.14.0)\n",
            "Requirement already satisfied: optree in /usr/local/lib/python3.11/dist-packages (from keras) (0.16.0)\n",
            "Requirement already satisfied: ml-dtypes in /usr/local/lib/python3.11/dist-packages (from keras) (0.4.1)\n",
            "Requirement already satisfied: packaging in /usr/local/lib/python3.11/dist-packages (from keras) (24.2)\n",
            "Requirement already satisfied: typing-extensions>=4.6.0 in /usr/local/lib/python3.11/dist-packages (from optree->keras) (4.14.0)\n",
            "Requirement already satisfied: markdown-it-py>=2.2.0 in /usr/local/lib/python3.11/dist-packages (from rich->keras) (3.0.0)\n",
            "Requirement already satisfied: pygments<3.0.0,>=2.13.0 in /usr/local/lib/python3.11/dist-packages (from rich->keras) (2.19.1)\n",
            "Requirement already satisfied: mdurl~=0.1 in /usr/local/lib/python3.11/dist-packages (from markdown-it-py>=2.2.0->rich->keras) (0.1.2)\n"
          ]
        }
      ]
    },
    {
      "cell_type": "markdown",
      "source": [
        "# Tien Xu Ly\n"
      ],
      "metadata": {
        "id": "JDebJAvCRh9b"
      }
    },
    {
      "cell_type": "code",
      "execution_count": null,
      "metadata": {
        "id": "7vKIXuidRPHS"
      },
      "outputs": [],
      "source": [
        "import numpy as np\n",
        "import pandas as pd\n",
        "from sklearn.preprocessing import StandardScaler, MinMaxScaler\n",
        "\n",
        "\n",
        "def process_data(train, test, lags):\n",
        "    \"\"\"Process data\n",
        "    Reshape and split train\\test data.\n",
        "\n",
        "    # Arguments\n",
        "        train: String, name of .csv train file.\n",
        "        test: String, name of .csv test file.\n",
        "        lags: integer, time lag.\n",
        "    # Returns\n",
        "        X_train: ndarray.\n",
        "        y_train: ndarray.\n",
        "        X_test: ndarray.\n",
        "        y_test: ndarray.\n",
        "        scaler: StandardScaler.\n",
        "    \"\"\"\n",
        "    attr = 'Vehicles'\n",
        "    df1 = pd.read_csv(train, encoding='utf-8').fillna(0)\n",
        "    df2 = pd.read_csv(test, encoding='utf-8').fillna(0)\n",
        "\n",
        "    # scaler = StandardScaler().fit(df1[attr].values)\n",
        "    scaler = MinMaxScaler(feature_range=(0, 1)).fit(df1[attr].values.reshape(-1, 1))\n",
        "    flow1 = scaler.transform(df1[attr].values.reshape(-1, 1)).reshape(1, -1)[0]\n",
        "    flow2 = scaler.transform(df2[attr].values.reshape(-1, 1)).reshape(1, -1)[0]\n",
        "\n",
        "    train, test = [], []\n",
        "    for i in range(lags, len(flow1)):\n",
        "        train.append(flow1[i - lags: i + 1])\n",
        "    for i in range(lags, len(flow2)):\n",
        "        test.append(flow2[i - lags: i + 1])\n",
        "\n",
        "    train = np.array(train)\n",
        "    test = np.array(test)\n",
        "    np.random.shuffle(train)\n",
        "\n",
        "    X_train = train[:, :-1]\n",
        "    y_train = train[:, -1]\n",
        "    X_test = test[:, :-1]\n",
        "    y_test = test[:, -1]\n",
        "\n",
        "    return X_train, y_train, X_test, y_test, scaler"
      ]
    },
    {
      "cell_type": "markdown",
      "source": [
        "# Model"
      ],
      "metadata": {
        "id": "OMmOL0pGRnly"
      }
    },
    {
      "cell_type": "code",
      "source": [
        "from keras.layers import Dense, Dropout, Activation, LSTM, GRU\n",
        "from keras.models import Sequential\n",
        "\n",
        "\n",
        "def get_lstm(units):\n",
        "    \"\"\"LSTM(Long Short-Term Memory)\n",
        "    Build LSTM Model.\n",
        "\n",
        "    # Arguments\n",
        "        units: List(int), number of input, output and hidden units.\n",
        "    # Returns\n",
        "        model: Model, nn model.\n",
        "    \"\"\"\n",
        "\n",
        "    model = Sequential()\n",
        "    model.add(LSTM(units[1], input_shape=(units[0], 1), return_sequences=True))\n",
        "    model.add(LSTM(units[2]))\n",
        "    model.add(Dropout(0.2))\n",
        "    model.add(Dense(units[3], activation='sigmoid'))\n",
        "\n",
        "    return model\n",
        "\n",
        "\n",
        "def get_gru(units):\n",
        "    \"\"\"GRU(Gated Recurrent Unit)\n",
        "    Build GRU Model.\n",
        "\n",
        "    # Arguments\n",
        "        units: List(int), number of input, output and hidden units.\n",
        "    # Returns\n",
        "        model: Model, nn model.\n",
        "    \"\"\"\n",
        "\n",
        "    model = Sequential()\n",
        "    model.add(GRU(units[1], input_shape=(units[0], 1), return_sequences=True))\n",
        "    model.add(GRU(units[2]))\n",
        "    model.add(Dropout(0.2))\n",
        "    model.add(Dense(units[3], activation='sigmoid'))\n",
        "\n",
        "    return model\n",
        "\n"
      ],
      "metadata": {
        "id": "ONNjdFMMRTkK"
      },
      "execution_count": null,
      "outputs": []
    },
    {
      "cell_type": "markdown",
      "source": [
        "# Train"
      ],
      "metadata": {
        "id": "kfYgEnbaR7la"
      }
    },
    {
      "cell_type": "code",
      "source": [
        "import sys\n",
        "import warnings\n",
        "import argparse\n",
        "import numpy as np\n",
        "import pandas as pd\n",
        "from keras.models import Model\n",
        "from keras.callbacks import EarlyStopping\n",
        "warnings.filterwarnings(\"ignore\")\n",
        "\n",
        "\n",
        "def train_model(model, X_train, y_train, name, config):\n",
        "    \"\"\"train\n",
        "    train a single model.\n",
        "\n",
        "    # Arguments\n",
        "        model: Model, NN model to train.\n",
        "        X_train: ndarray(number, lags), Input data for train.\n",
        "        y_train: ndarray(number, ), result data for train.\n",
        "        name: String, name of model.\n",
        "        config: Dict, parameter for train.\n",
        "    \"\"\"\n",
        "\n",
        "    model.compile(loss=\"mse\", optimizer=\"rmsprop\", metrics=['mape'])\n",
        "    # early = EarlyStopping(monitor='val_loss', patience=30, verbose=0, mode='auto')\n",
        "    hist = model.fit(\n",
        "        X_train, y_train,\n",
        "        batch_size=config[\"batch\"],\n",
        "        epochs=config[\"epochs\"],\n",
        "        validation_split=0.05)\n",
        "\n",
        "    model.save('/content/drive/MyDrive/GRU/Test/Model/' + name + '.h5')\n",
        "    df = pd.DataFrame.from_dict(hist.history)\n",
        "    df.to_csv('/content/drive/MyDrive/GRU/Test/Model/' + name + ' loss.csv', encoding='utf-8', index=False)\n",
        "\n",
        "\n"
      ],
      "metadata": {
        "id": "THbyv6scR6xj"
      },
      "execution_count": null,
      "outputs": []
    },
    {
      "cell_type": "code",
      "source": [
        "def main(argv):\n",
        "    parser = argparse.ArgumentParser()\n",
        "    parser.add_argument(\n",
        "        \"--model\",\n",
        "        default=\"lstm\",\n",
        "        help=\"Model to train.\")\n",
        "    args = parser.parse_args()\n",
        "\n",
        "    lag = 12\n",
        "    config = {\"batch\": 256, \"epochs\": 600}\n",
        "    file1 = 'data/train_data.csv'\n",
        "    file2 = 'data/test_data.csv'\n",
        "    X_train, y_train, _, _, _ = process_data(file1, file2, lag)\n",
        "\n",
        "    if args.model == 'lstm':\n",
        "        X_train = np.reshape(X_train, (X_train.shape[0], X_train.shape[1], 1))\n",
        "        m = model.get_lstm([12, 64, 64, 1])\n",
        "        train_model(m, X_train, y_train, args.model, config)\n",
        "    if args.model == 'gru':\n",
        "        X_train = np.reshape(X_train, (X_train.shape[0], X_train.shape[1], 1))\n",
        "        m = model.get_gru([12, 64, 64, 1])\n",
        "        train_model(m, X_train, y_train, args.model, config)\n",
        "    if args.model == 'saes':\n",
        "        X_train = np.reshape(X_train, (X_train.shape[0], X_train.shape[1]))\n",
        "        m = model.get_saes([12, 400, 400, 400, 1])\n",
        "        train_seas(m, X_train, y_train, args.model, config)\n",
        "\n",
        "\n",
        "if __name__ == '__main__':\n",
        "    main(sys.argv)"
      ],
      "metadata": {
        "id": "K0k3z51eS_8z"
      },
      "execution_count": null,
      "outputs": []
    },
    {
      "cell_type": "markdown",
      "source": [
        "Train GRU"
      ],
      "metadata": {
        "id": "iM2CUKmWtGIh"
      }
    },
    {
      "cell_type": "code",
      "source": [
        "lag = 12\n",
        "config = {\"batch\": 128, \"epochs\": 50}\n",
        "file1 = '/content/drive/MyDrive/GRU/Test/Model/Data/train.csv'\n",
        "file2 = '/content/drive/MyDrive/GRU/Test/Model/Data/test.csv'\n",
        "X_train, y_train, _, _, _ = process_data(file1, file2, lag)\n",
        "\n",
        "X_train = np.reshape(X_train, (X_train.shape[0], X_train.shape[1], 1))\n",
        "m = get_gru([12, 64, 64, 1])\n",
        "train_model(m, X_train, y_train, \"gru_manual_run\", config)"
      ],
      "metadata": {
        "colab": {
          "base_uri": "https://localhost:8080/"
        },
        "id": "6hYdVWOkTCJS",
        "outputId": "9883d4ec-7726-433b-93cd-cea24e359cb0",
        "collapsed": true
      },
      "execution_count": null,
      "outputs": [
        {
          "output_type": "stream",
          "name": "stdout",
          "text": [
            "Epoch 1/50\n",
            "\u001b[1m3121/3121\u001b[0m \u001b[32m━━━━━━━━━━━━━━━━━━━━\u001b[0m\u001b[37m\u001b[0m \u001b[1m20s\u001b[0m 6ms/step - loss: 0.0587 - mape: 16659565.0000 - val_loss: 0.0600 - val_mape: 15503279.0000\n",
            "Epoch 2/50\n",
            "\u001b[1m3121/3121\u001b[0m \u001b[32m━━━━━━━━━━━━━━━━━━━━\u001b[0m\u001b[37m\u001b[0m \u001b[1m20s\u001b[0m 6ms/step - loss: 0.0581 - mape: 16761372.0000 - val_loss: 0.0596 - val_mape: 16630287.0000\n",
            "Epoch 3/50\n",
            "\u001b[1m3121/3121\u001b[0m \u001b[32m━━━━━━━━━━━━━━━━━━━━\u001b[0m\u001b[37m\u001b[0m \u001b[1m18s\u001b[0m 6ms/step - loss: 0.0580 - mape: 16603714.0000 - val_loss: 0.0598 - val_mape: 15996886.0000\n",
            "Epoch 4/50\n",
            "\u001b[1m3121/3121\u001b[0m \u001b[32m━━━━━━━━━━━━━━━━━━━━\u001b[0m\u001b[37m\u001b[0m \u001b[1m20s\u001b[0m 6ms/step - loss: 0.0577 - mape: 16602291.0000 - val_loss: 0.0596 - val_mape: 16407803.0000\n",
            "Epoch 5/50\n",
            "\u001b[1m3121/3121\u001b[0m \u001b[32m━━━━━━━━━━━━━━━━━━━━\u001b[0m\u001b[37m\u001b[0m \u001b[1m22s\u001b[0m 6ms/step - loss: 0.0581 - mape: 16587475.0000 - val_loss: 0.0597 - val_mape: 16036766.0000\n",
            "Epoch 6/50\n",
            "\u001b[1m3121/3121\u001b[0m \u001b[32m━━━━━━━━━━━━━━━━━━━━\u001b[0m\u001b[37m\u001b[0m \u001b[1m19s\u001b[0m 6ms/step - loss: 0.0580 - mape: 16441642.0000 - val_loss: 0.0596 - val_mape: 16609358.0000\n",
            "Epoch 7/50\n",
            "\u001b[1m3121/3121\u001b[0m \u001b[32m━━━━━━━━━━━━━━━━━━━━\u001b[0m\u001b[37m\u001b[0m \u001b[1m22s\u001b[0m 6ms/step - loss: 0.0574 - mape: 16579368.0000 - val_loss: 0.0596 - val_mape: 16470000.0000\n",
            "Epoch 8/50\n",
            "\u001b[1m3121/3121\u001b[0m \u001b[32m━━━━━━━━━━━━━━━━━━━━\u001b[0m\u001b[37m\u001b[0m \u001b[1m18s\u001b[0m 6ms/step - loss: 0.0579 - mape: 16741687.0000 - val_loss: 0.0596 - val_mape: 16859380.0000\n",
            "Epoch 9/50\n",
            "\u001b[1m3121/3121\u001b[0m \u001b[32m━━━━━━━━━━━━━━━━━━━━\u001b[0m\u001b[37m\u001b[0m \u001b[1m21s\u001b[0m 6ms/step - loss: 0.0579 - mape: 16523380.0000 - val_loss: 0.0597 - val_mape: 16303966.0000\n",
            "Epoch 10/50\n",
            "\u001b[1m3121/3121\u001b[0m \u001b[32m━━━━━━━━━━━━━━━━━━━━\u001b[0m\u001b[37m\u001b[0m \u001b[1m19s\u001b[0m 6ms/step - loss: 0.0580 - mape: 16586149.0000 - val_loss: 0.0596 - val_mape: 16785774.0000\n",
            "Epoch 11/50\n",
            "\u001b[1m3121/3121\u001b[0m \u001b[32m━━━━━━━━━━━━━━━━━━━━\u001b[0m\u001b[37m\u001b[0m \u001b[1m22s\u001b[0m 6ms/step - loss: 0.0581 - mape: 16629259.0000 - val_loss: 0.0596 - val_mape: 16669564.0000\n",
            "Epoch 12/50\n",
            "\u001b[1m3121/3121\u001b[0m \u001b[32m━━━━━━━━━━━━━━━━━━━━\u001b[0m\u001b[37m\u001b[0m \u001b[1m19s\u001b[0m 6ms/step - loss: 0.0581 - mape: 16548655.0000 - val_loss: 0.0597 - val_mape: 16340481.0000\n",
            "Epoch 13/50\n",
            "\u001b[1m3121/3121\u001b[0m \u001b[32m━━━━━━━━━━━━━━━━━━━━\u001b[0m\u001b[37m\u001b[0m \u001b[1m21s\u001b[0m 6ms/step - loss: 0.0577 - mape: 16525492.0000 - val_loss: 0.0596 - val_mape: 16639113.0000\n",
            "Epoch 14/50\n",
            "\u001b[1m3121/3121\u001b[0m \u001b[32m━━━━━━━━━━━━━━━━━━━━\u001b[0m\u001b[37m\u001b[0m \u001b[1m18s\u001b[0m 6ms/step - loss: 0.0576 - mape: 16632816.0000 - val_loss: 0.0596 - val_mape: 16701710.0000\n",
            "Epoch 15/50\n",
            "\u001b[1m3121/3121\u001b[0m \u001b[32m━━━━━━━━━━━━━━━━━━━━\u001b[0m\u001b[37m\u001b[0m \u001b[1m21s\u001b[0m 6ms/step - loss: 0.0575 - mape: 16619204.0000 - val_loss: 0.0596 - val_mape: 16602818.0000\n",
            "Epoch 16/50\n",
            "\u001b[1m3121/3121\u001b[0m \u001b[32m━━━━━━━━━━━━━━━━━━━━\u001b[0m\u001b[37m\u001b[0m \u001b[1m20s\u001b[0m 6ms/step - loss: 0.0580 - mape: 16594210.0000 - val_loss: 0.0596 - val_mape: 16637706.0000\n",
            "Epoch 17/50\n",
            "\u001b[1m3121/3121\u001b[0m \u001b[32m━━━━━━━━━━━━━━━━━━━━\u001b[0m\u001b[37m\u001b[0m \u001b[1m21s\u001b[0m 6ms/step - loss: 0.0576 - mape: 16523642.0000 - val_loss: 0.0596 - val_mape: 16604470.0000\n",
            "Epoch 18/50\n",
            "\u001b[1m3121/3121\u001b[0m \u001b[32m━━━━━━━━━━━━━━━━━━━━\u001b[0m\u001b[37m\u001b[0m \u001b[1m22s\u001b[0m 6ms/step - loss: 0.0578 - mape: 16645595.0000 - val_loss: 0.0596 - val_mape: 16556006.0000\n",
            "Epoch 19/50\n",
            "\u001b[1m3121/3121\u001b[0m \u001b[32m━━━━━━━━━━━━━━━━━━━━\u001b[0m\u001b[37m\u001b[0m \u001b[1m18s\u001b[0m 6ms/step - loss: 0.0578 - mape: 16645698.0000 - val_loss: 0.0596 - val_mape: 16769203.0000\n",
            "Epoch 20/50\n",
            "\u001b[1m3121/3121\u001b[0m \u001b[32m━━━━━━━━━━━━━━━━━━━━\u001b[0m\u001b[37m\u001b[0m \u001b[1m18s\u001b[0m 6ms/step - loss: 0.0580 - mape: 16581879.0000 - val_loss: 0.0597 - val_mape: 16325959.0000\n",
            "Epoch 21/50\n",
            "\u001b[1m3121/3121\u001b[0m \u001b[32m━━━━━━━━━━━━━━━━━━━━\u001b[0m\u001b[37m\u001b[0m \u001b[1m20s\u001b[0m 6ms/step - loss: 0.0579 - mape: 16542951.0000 - val_loss: 0.0596 - val_mape: 16671942.0000\n",
            "Epoch 22/50\n",
            "\u001b[1m3121/3121\u001b[0m \u001b[32m━━━━━━━━━━━━━━━━━━━━\u001b[0m\u001b[37m\u001b[0m \u001b[1m21s\u001b[0m 6ms/step - loss: 0.0580 - mape: 16614181.0000 - val_loss: 0.0596 - val_mape: 16594342.0000\n",
            "Epoch 23/50\n",
            "\u001b[1m3121/3121\u001b[0m \u001b[32m━━━━━━━━━━━━━━━━━━━━\u001b[0m\u001b[37m\u001b[0m \u001b[1m18s\u001b[0m 6ms/step - loss: 0.0578 - mape: 16720730.0000 - val_loss: 0.0596 - val_mape: 16501902.0000\n",
            "Epoch 24/50\n",
            "\u001b[1m3121/3121\u001b[0m \u001b[32m━━━━━━━━━━━━━━━━━━━━\u001b[0m\u001b[37m\u001b[0m \u001b[1m22s\u001b[0m 6ms/step - loss: 0.0576 - mape: 16692967.0000 - val_loss: 0.0596 - val_mape: 16492943.0000\n",
            "Epoch 25/50\n",
            "\u001b[1m3121/3121\u001b[0m \u001b[32m━━━━━━━━━━━━━━━━━━━━\u001b[0m\u001b[37m\u001b[0m \u001b[1m19s\u001b[0m 6ms/step - loss: 0.0579 - mape: 16445148.0000 - val_loss: 0.0596 - val_mape: 16433216.0000\n",
            "Epoch 26/50\n",
            "\u001b[1m3121/3121\u001b[0m \u001b[32m━━━━━━━━━━━━━━━━━━━━\u001b[0m\u001b[37m\u001b[0m \u001b[1m19s\u001b[0m 6ms/step - loss: 0.0577 - mape: 16424698.0000 - val_loss: 0.0596 - val_mape: 16577432.0000\n",
            "Epoch 27/50\n",
            "\u001b[1m3121/3121\u001b[0m \u001b[32m━━━━━━━━━━━━━━━━━━━━\u001b[0m\u001b[37m\u001b[0m \u001b[1m18s\u001b[0m 6ms/step - loss: 0.0580 - mape: 16745973.0000 - val_loss: 0.0596 - val_mape: 16444450.0000\n",
            "Epoch 28/50\n",
            "\u001b[1m3121/3121\u001b[0m \u001b[32m━━━━━━━━━━━━━━━━━━━━\u001b[0m\u001b[37m\u001b[0m \u001b[1m18s\u001b[0m 6ms/step - loss: 0.0579 - mape: 16533007.0000 - val_loss: 0.0596 - val_mape: 16489249.0000\n",
            "Epoch 29/50\n",
            "\u001b[1m3121/3121\u001b[0m \u001b[32m━━━━━━━━━━━━━━━━━━━━\u001b[0m\u001b[37m\u001b[0m \u001b[1m21s\u001b[0m 6ms/step - loss: 0.0576 - mape: 16559787.0000 - val_loss: 0.0596 - val_mape: 16531925.0000\n",
            "Epoch 30/50\n",
            "\u001b[1m3121/3121\u001b[0m \u001b[32m━━━━━━━━━━━━━━━━━━━━\u001b[0m\u001b[37m\u001b[0m \u001b[1m20s\u001b[0m 6ms/step - loss: 0.0577 - mape: 16406820.0000 - val_loss: 0.0596 - val_mape: 16669054.0000\n",
            "Epoch 31/50\n",
            "\u001b[1m3121/3121\u001b[0m \u001b[32m━━━━━━━━━━━━━━━━━━━━\u001b[0m\u001b[37m\u001b[0m \u001b[1m20s\u001b[0m 6ms/step - loss: 0.0579 - mape: 16530415.0000 - val_loss: 0.0596 - val_mape: 16556531.0000\n",
            "Epoch 32/50\n",
            "\u001b[1m3121/3121\u001b[0m \u001b[32m━━━━━━━━━━━━━━━━━━━━\u001b[0m\u001b[37m\u001b[0m \u001b[1m21s\u001b[0m 6ms/step - loss: 0.0577 - mape: 16565912.0000 - val_loss: 0.0596 - val_mape: 16501718.0000\n",
            "Epoch 33/50\n",
            "\u001b[1m3121/3121\u001b[0m \u001b[32m━━━━━━━━━━━━━━━━━━━━\u001b[0m\u001b[37m\u001b[0m \u001b[1m20s\u001b[0m 6ms/step - loss: 0.0581 - mape: 16633679.0000 - val_loss: 0.0596 - val_mape: 16449508.0000\n",
            "Epoch 34/50\n",
            "\u001b[1m3121/3121\u001b[0m \u001b[32m━━━━━━━━━━━━━━━━━━━━\u001b[0m\u001b[37m\u001b[0m \u001b[1m18s\u001b[0m 6ms/step - loss: 0.0573 - mape: 16314582.0000 - val_loss: 0.0596 - val_mape: 16677809.0000\n",
            "Epoch 35/50\n",
            "\u001b[1m3121/3121\u001b[0m \u001b[32m━━━━━━━━━━━━━━━━━━━━\u001b[0m\u001b[37m\u001b[0m \u001b[1m20s\u001b[0m 6ms/step - loss: 0.0575 - mape: 16525782.0000 - val_loss: 0.0596 - val_mape: 16479199.0000\n",
            "Epoch 36/50\n",
            "\u001b[1m3121/3121\u001b[0m \u001b[32m━━━━━━━━━━━━━━━━━━━━\u001b[0m\u001b[37m\u001b[0m \u001b[1m22s\u001b[0m 6ms/step - loss: 0.0579 - mape: 16694915.0000 - val_loss: 0.0596 - val_mape: 16494442.0000\n",
            "Epoch 37/50\n",
            "\u001b[1m3121/3121\u001b[0m \u001b[32m━━━━━━━━━━━━━━━━━━━━\u001b[0m\u001b[37m\u001b[0m \u001b[1m20s\u001b[0m 6ms/step - loss: 0.0579 - mape: 16527874.0000 - val_loss: 0.0596 - val_mape: 16600164.0000\n",
            "Epoch 38/50\n",
            "\u001b[1m3121/3121\u001b[0m \u001b[32m━━━━━━━━━━━━━━━━━━━━\u001b[0m\u001b[37m\u001b[0m \u001b[1m20s\u001b[0m 6ms/step - loss: 0.0578 - mape: 16588376.0000 - val_loss: 0.0596 - val_mape: 16415722.0000\n",
            "Epoch 39/50\n",
            "\u001b[1m3121/3121\u001b[0m \u001b[32m━━━━━━━━━━━━━━━━━━━━\u001b[0m\u001b[37m\u001b[0m \u001b[1m19s\u001b[0m 6ms/step - loss: 0.0582 - mape: 16626229.0000 - val_loss: 0.0596 - val_mape: 16485496.0000\n",
            "Epoch 40/50\n",
            "\u001b[1m3121/3121\u001b[0m \u001b[32m━━━━━━━━━━━━━━━━━━━━\u001b[0m\u001b[37m\u001b[0m \u001b[1m19s\u001b[0m 6ms/step - loss: 0.0577 - mape: 16640820.0000 - val_loss: 0.0596 - val_mape: 16690709.0000\n",
            "Epoch 41/50\n",
            "\u001b[1m3121/3121\u001b[0m \u001b[32m━━━━━━━━━━━━━━━━━━━━\u001b[0m\u001b[37m\u001b[0m \u001b[1m20s\u001b[0m 6ms/step - loss: 0.0578 - mape: 16652487.0000 - val_loss: 0.0596 - val_mape: 16568781.0000\n",
            "Epoch 42/50\n",
            "\u001b[1m3121/3121\u001b[0m \u001b[32m━━━━━━━━━━━━━━━━━━━━\u001b[0m\u001b[37m\u001b[0m \u001b[1m19s\u001b[0m 6ms/step - loss: 0.0575 - mape: 16495682.0000 - val_loss: 0.0597 - val_mape: 16401731.0000\n",
            "Epoch 43/50\n",
            "\u001b[1m3121/3121\u001b[0m \u001b[32m━━━━━━━━━━━━━━━━━━━━\u001b[0m\u001b[37m\u001b[0m \u001b[1m20s\u001b[0m 6ms/step - loss: 0.0576 - mape: 16502413.0000 - val_loss: 0.0596 - val_mape: 16558004.0000\n",
            "Epoch 44/50\n",
            "\u001b[1m3121/3121\u001b[0m \u001b[32m━━━━━━━━━━━━━━━━━━━━\u001b[0m\u001b[37m\u001b[0m \u001b[1m22s\u001b[0m 6ms/step - loss: 0.0581 - mape: 16597714.0000 - val_loss: 0.0596 - val_mape: 16543233.0000\n",
            "Epoch 45/50\n",
            "\u001b[1m3121/3121\u001b[0m \u001b[32m━━━━━━━━━━━━━━━━━━━━\u001b[0m\u001b[37m\u001b[0m \u001b[1m19s\u001b[0m 6ms/step - loss: 0.0580 - mape: 16570011.0000 - val_loss: 0.0596 - val_mape: 16499335.0000\n",
            "Epoch 46/50\n",
            "\u001b[1m3121/3121\u001b[0m \u001b[32m━━━━━━━━━━━━━━━━━━━━\u001b[0m\u001b[37m\u001b[0m \u001b[1m19s\u001b[0m 6ms/step - loss: 0.0577 - mape: 16548159.0000 - val_loss: 0.0596 - val_mape: 16583784.0000\n",
            "Epoch 47/50\n",
            "\u001b[1m3121/3121\u001b[0m \u001b[32m━━━━━━━━━━━━━━━━━━━━\u001b[0m\u001b[37m\u001b[0m \u001b[1m20s\u001b[0m 6ms/step - loss: 0.0577 - mape: 16627793.0000 - val_loss: 0.0596 - val_mape: 16570045.0000\n",
            "Epoch 48/50\n",
            "\u001b[1m3121/3121\u001b[0m \u001b[32m━━━━━━━━━━━━━━━━━━━━\u001b[0m\u001b[37m\u001b[0m \u001b[1m21s\u001b[0m 6ms/step - loss: 0.0575 - mape: 16675021.0000 - val_loss: 0.0596 - val_mape: 16727165.0000\n",
            "Epoch 49/50\n",
            "\u001b[1m3121/3121\u001b[0m \u001b[32m━━━━━━━━━━━━━━━━━━━━\u001b[0m\u001b[37m\u001b[0m \u001b[1m18s\u001b[0m 6ms/step - loss: 0.0579 - mape: 16496322.0000 - val_loss: 0.0596 - val_mape: 16452622.0000\n",
            "Epoch 50/50\n",
            "\u001b[1m3121/3121\u001b[0m \u001b[32m━━━━━━━━━━━━━━━━━━━━\u001b[0m\u001b[37m\u001b[0m \u001b[1m19s\u001b[0m 6ms/step - loss: 0.0578 - mape: 16445388.0000 - val_loss: 0.0596 - val_mape: 16620106.0000\n"
          ]
        },
        {
          "output_type": "stream",
          "name": "stderr",
          "text": [
            "WARNING:absl:You are saving your model as an HDF5 file via `model.save()` or `keras.saving.save_model(model)`. This file format is considered legacy. We recommend using instead the native Keras format, e.g. `model.save('my_model.keras')` or `keras.saving.save_model(model, 'my_model.keras')`. \n"
          ]
        }
      ]
    },
    {
      "cell_type": "markdown",
      "source": [
        "Train LSTM"
      ],
      "metadata": {
        "id": "GmsD_aL9tN3h"
      }
    },
    {
      "cell_type": "code",
      "source": [
        "lag = 12\n",
        "config = {\"batch\": 64, \"epochs\": 100}\n",
        "file1 = '/content/drive/MyDrive/GRU/Test/Data/train_data.csv'\n",
        "file2 = '/content/drive/MyDrive/GRU/Test/Data/test_data.csv'\n",
        "X_train, y_train, _, _, _ = process_data(file1, file2, lag)\n",
        "\n",
        "X_train = np.reshape(X_train, (X_train.shape[0], X_train.shape[1], 1))\n",
        "m = get_lstm([12, 64, 64, 1])\n",
        "train_model(m, X_train, y_train, \"lstm_model\", config)"
      ],
      "metadata": {
        "colab": {
          "base_uri": "https://localhost:8080/"
        },
        "collapsed": true,
        "id": "NGRJHMyMtV5K",
        "outputId": "2d79ea4c-e61c-4a67-c10a-1f42ee5eecde"
      },
      "execution_count": null,
      "outputs": [
        {
          "output_type": "stream",
          "name": "stdout",
          "text": [
            "Epoch 1/100\n",
            "\u001b[1m174/174\u001b[0m \u001b[32m━━━━━━━━━━━━━━━━━━━━\u001b[0m\u001b[37m\u001b[0m \u001b[1m4s\u001b[0m 7ms/step - loss: 0.0263 - mape: 42517.3633 - val_loss: 0.0114 - val_mape: 45.2654\n",
            "Epoch 2/100\n",
            "\u001b[1m174/174\u001b[0m \u001b[32m━━━━━━━━━━━━━━━━━━━━\u001b[0m\u001b[37m\u001b[0m \u001b[1m1s\u001b[0m 6ms/step - loss: 0.0108 - mape: 25917.6758 - val_loss: 0.0139 - val_mape: 37.5303\n",
            "Epoch 3/100\n",
            "\u001b[1m174/174\u001b[0m \u001b[32m━━━━━━━━━━━━━━━━━━━━\u001b[0m\u001b[37m\u001b[0m \u001b[1m1s\u001b[0m 5ms/step - loss: 0.0083 - mape: 45994.5000 - val_loss: 0.0061 - val_mape: 40.1063\n",
            "Epoch 4/100\n",
            "\u001b[1m174/174\u001b[0m \u001b[32m━━━━━━━━━━━━━━━━━━━━\u001b[0m\u001b[37m\u001b[0m \u001b[1m1s\u001b[0m 6ms/step - loss: 0.0059 - mape: 1652.5365 - val_loss: 0.0050 - val_mape: 30.2943\n",
            "Epoch 5/100\n",
            "\u001b[1m174/174\u001b[0m \u001b[32m━━━━━━━━━━━━━━━━━━━━\u001b[0m\u001b[37m\u001b[0m \u001b[1m1s\u001b[0m 8ms/step - loss: 0.0051 - mape: 21988.7988 - val_loss: 0.0047 - val_mape: 25.7304\n",
            "Epoch 6/100\n",
            "\u001b[1m174/174\u001b[0m \u001b[32m━━━━━━━━━━━━━━━━━━━━\u001b[0m\u001b[37m\u001b[0m \u001b[1m1s\u001b[0m 8ms/step - loss: 0.0042 - mape: 514.2245 - val_loss: 0.0040 - val_mape: 35.4237\n",
            "Epoch 7/100\n",
            "\u001b[1m174/174\u001b[0m \u001b[32m━━━━━━━━━━━━━━━━━━━━\u001b[0m\u001b[37m\u001b[0m \u001b[1m2s\u001b[0m 5ms/step - loss: 0.0033 - mape: 1956.3969 - val_loss: 0.0033 - val_mape: 21.4459\n",
            "Epoch 8/100\n",
            "\u001b[1m174/174\u001b[0m \u001b[32m━━━━━━━━━━━━━━━━━━━━\u001b[0m\u001b[37m\u001b[0m \u001b[1m1s\u001b[0m 5ms/step - loss: 0.0027 - mape: 9132.8203 - val_loss: 0.0044 - val_mape: 34.1666\n",
            "Epoch 9/100\n",
            "\u001b[1m174/174\u001b[0m \u001b[32m━━━━━━━━━━━━━━━━━━━━\u001b[0m\u001b[37m\u001b[0m \u001b[1m1s\u001b[0m 5ms/step - loss: 0.0026 - mape: 3680.4890 - val_loss: 0.0022 - val_mape: 24.4829\n",
            "Epoch 10/100\n",
            "\u001b[1m174/174\u001b[0m \u001b[32m━━━━━━━━━━━━━━━━━━━━\u001b[0m\u001b[37m\u001b[0m \u001b[1m1s\u001b[0m 5ms/step - loss: 0.0024 - mape: 17585.0410 - val_loss: 0.0025 - val_mape: 19.1132\n",
            "Epoch 11/100\n",
            "\u001b[1m174/174\u001b[0m \u001b[32m━━━━━━━━━━━━━━━━━━━━\u001b[0m\u001b[37m\u001b[0m \u001b[1m1s\u001b[0m 5ms/step - loss: 0.0023 - mape: 17432.6172 - val_loss: 0.0021 - val_mape: 19.4176\n",
            "Epoch 12/100\n",
            "\u001b[1m174/174\u001b[0m \u001b[32m━━━━━━━━━━━━━━━━━━━━\u001b[0m\u001b[37m\u001b[0m \u001b[1m1s\u001b[0m 5ms/step - loss: 0.0023 - mape: 1598.4575 - val_loss: 0.0030 - val_mape: 19.5513\n",
            "Epoch 13/100\n",
            "\u001b[1m174/174\u001b[0m \u001b[32m━━━━━━━━━━━━━━━━━━━━\u001b[0m\u001b[37m\u001b[0m \u001b[1m1s\u001b[0m 6ms/step - loss: 0.0021 - mape: 2386.4434 - val_loss: 0.0018 - val_mape: 19.5829\n",
            "Epoch 14/100\n",
            "\u001b[1m174/174\u001b[0m \u001b[32m━━━━━━━━━━━━━━━━━━━━\u001b[0m\u001b[37m\u001b[0m \u001b[1m1s\u001b[0m 6ms/step - loss: 0.0020 - mape: 12799.8574 - val_loss: 0.0024 - val_mape: 26.5630\n",
            "Epoch 15/100\n",
            "\u001b[1m174/174\u001b[0m \u001b[32m━━━━━━━━━━━━━━━━━━━━\u001b[0m\u001b[37m\u001b[0m \u001b[1m2s\u001b[0m 8ms/step - loss: 0.0020 - mape: 8692.0430 - val_loss: 0.0021 - val_mape: 17.7465\n",
            "Epoch 16/100\n",
            "\u001b[1m174/174\u001b[0m \u001b[32m━━━━━━━━━━━━━━━━━━━━\u001b[0m\u001b[37m\u001b[0m \u001b[1m2s\u001b[0m 5ms/step - loss: 0.0020 - mape: 10791.5693 - val_loss: 0.0019 - val_mape: 17.5654\n",
            "Epoch 17/100\n",
            "\u001b[1m174/174\u001b[0m \u001b[32m━━━━━━━━━━━━━━━━━━━━\u001b[0m\u001b[37m\u001b[0m \u001b[1m1s\u001b[0m 5ms/step - loss: 0.0020 - mape: 7136.8037 - val_loss: 0.0028 - val_mape: 29.2805\n",
            "Epoch 18/100\n",
            "\u001b[1m174/174\u001b[0m \u001b[32m━━━━━━━━━━━━━━━━━━━━\u001b[0m\u001b[37m\u001b[0m \u001b[1m1s\u001b[0m 5ms/step - loss: 0.0020 - mape: 10949.4717 - val_loss: 0.0018 - val_mape: 17.2681\n",
            "Epoch 19/100\n",
            "\u001b[1m174/174\u001b[0m \u001b[32m━━━━━━━━━━━━━━━━━━━━\u001b[0m\u001b[37m\u001b[0m \u001b[1m1s\u001b[0m 5ms/step - loss: 0.0019 - mape: 467.3253 - val_loss: 0.0016 - val_mape: 18.8818\n",
            "Epoch 20/100\n",
            "\u001b[1m174/174\u001b[0m \u001b[32m━━━━━━━━━━━━━━━━━━━━\u001b[0m\u001b[37m\u001b[0m \u001b[1m1s\u001b[0m 5ms/step - loss: 0.0019 - mape: 21865.2891 - val_loss: 0.0018 - val_mape: 21.6068\n",
            "Epoch 21/100\n",
            "\u001b[1m174/174\u001b[0m \u001b[32m━━━━━━━━━━━━━━━━━━━━\u001b[0m\u001b[37m\u001b[0m \u001b[1m1s\u001b[0m 6ms/step - loss: 0.0018 - mape: 4676.2183 - val_loss: 0.0016 - val_mape: 19.3750\n",
            "Epoch 22/100\n",
            "\u001b[1m174/174\u001b[0m \u001b[32m━━━━━━━━━━━━━━━━━━━━\u001b[0m\u001b[37m\u001b[0m \u001b[1m1s\u001b[0m 5ms/step - loss: 0.0018 - mape: 4761.9546 - val_loss: 0.0015 - val_mape: 18.0738\n",
            "Epoch 23/100\n",
            "\u001b[1m174/174\u001b[0m \u001b[32m━━━━━━━━━━━━━━━━━━━━\u001b[0m\u001b[37m\u001b[0m \u001b[1m1s\u001b[0m 6ms/step - loss: 0.0017 - mape: 846.9993 - val_loss: 0.0017 - val_mape: 16.3890\n",
            "Epoch 24/100\n",
            "\u001b[1m174/174\u001b[0m \u001b[32m━━━━━━━━━━━━━━━━━━━━\u001b[0m\u001b[37m\u001b[0m \u001b[1m2s\u001b[0m 7ms/step - loss: 0.0017 - mape: 3240.4026 - val_loss: 0.0016 - val_mape: 19.7256\n",
            "Epoch 25/100\n",
            "\u001b[1m174/174\u001b[0m \u001b[32m━━━━━━━━━━━━━━━━━━━━\u001b[0m\u001b[37m\u001b[0m \u001b[1m1s\u001b[0m 8ms/step - loss: 0.0018 - mape: 14572.6719 - val_loss: 0.0016 - val_mape: 19.3269\n",
            "Epoch 26/100\n",
            "\u001b[1m174/174\u001b[0m \u001b[32m━━━━━━━━━━━━━━━━━━━━\u001b[0m\u001b[37m\u001b[0m \u001b[1m2s\u001b[0m 6ms/step - loss: 0.0017 - mape: 9559.9443 - val_loss: 0.0020 - val_mape: 16.4163\n",
            "Epoch 27/100\n",
            "\u001b[1m174/174\u001b[0m \u001b[32m━━━━━━━━━━━━━━━━━━━━\u001b[0m\u001b[37m\u001b[0m \u001b[1m1s\u001b[0m 6ms/step - loss: 0.0017 - mape: 7014.4932 - val_loss: 0.0015 - val_mape: 16.8976\n",
            "Epoch 28/100\n",
            "\u001b[1m174/174\u001b[0m \u001b[32m━━━━━━━━━━━━━━━━━━━━\u001b[0m\u001b[37m\u001b[0m \u001b[1m1s\u001b[0m 6ms/step - loss: 0.0016 - mape: 16281.4287 - val_loss: 0.0016 - val_mape: 16.2036\n",
            "Epoch 29/100\n",
            "\u001b[1m174/174\u001b[0m \u001b[32m━━━━━━━━━━━━━━━━━━━━\u001b[0m\u001b[37m\u001b[0m \u001b[1m1s\u001b[0m 6ms/step - loss: 0.0017 - mape: 12847.0879 - val_loss: 0.0024 - val_mape: 25.4776\n",
            "Epoch 30/100\n",
            "\u001b[1m174/174\u001b[0m \u001b[32m━━━━━━━━━━━━━━━━━━━━\u001b[0m\u001b[37m\u001b[0m \u001b[1m1s\u001b[0m 6ms/step - loss: 0.0017 - mape: 11412.9414 - val_loss: 0.0019 - val_mape: 16.3472\n",
            "Epoch 31/100\n",
            "\u001b[1m174/174\u001b[0m \u001b[32m━━━━━━━━━━━━━━━━━━━━\u001b[0m\u001b[37m\u001b[0m \u001b[1m1s\u001b[0m 5ms/step - loss: 0.0017 - mape: 369.2167 - val_loss: 0.0014 - val_mape: 17.1227\n",
            "Epoch 32/100\n",
            "\u001b[1m174/174\u001b[0m \u001b[32m━━━━━━━━━━━━━━━━━━━━\u001b[0m\u001b[37m\u001b[0m \u001b[1m1s\u001b[0m 5ms/step - loss: 0.0016 - mape: 16154.5713 - val_loss: 0.0017 - val_mape: 17.7913\n",
            "Epoch 33/100\n",
            "\u001b[1m174/174\u001b[0m \u001b[32m━━━━━━━━━━━━━━━━━━━━\u001b[0m\u001b[37m\u001b[0m \u001b[1m1s\u001b[0m 5ms/step - loss: 0.0016 - mape: 18156.5430 - val_loss: 0.0014 - val_mape: 16.8600\n",
            "Epoch 34/100\n",
            "\u001b[1m174/174\u001b[0m \u001b[32m━━━━━━━━━━━━━━━━━━━━\u001b[0m\u001b[37m\u001b[0m \u001b[1m1s\u001b[0m 6ms/step - loss: 0.0016 - mape: 8547.5771 - val_loss: 0.0015 - val_mape: 15.7192\n",
            "Epoch 35/100\n",
            "\u001b[1m174/174\u001b[0m \u001b[32m━━━━━━━━━━━━━━━━━━━━\u001b[0m\u001b[37m\u001b[0m \u001b[1m2s\u001b[0m 8ms/step - loss: 0.0017 - mape: 1334.3356 - val_loss: 0.0015 - val_mape: 15.9905\n",
            "Epoch 36/100\n",
            "\u001b[1m174/174\u001b[0m \u001b[32m━━━━━━━━━━━━━━━━━━━━\u001b[0m\u001b[37m\u001b[0m \u001b[1m2s\u001b[0m 6ms/step - loss: 0.0016 - mape: 1003.3288 - val_loss: 0.0019 - val_mape: 16.0776\n",
            "Epoch 37/100\n",
            "\u001b[1m174/174\u001b[0m \u001b[32m━━━━━━━━━━━━━━━━━━━━\u001b[0m\u001b[37m\u001b[0m \u001b[1m1s\u001b[0m 6ms/step - loss: 0.0016 - mape: 3813.3191 - val_loss: 0.0016 - val_mape: 15.7217\n",
            "Epoch 38/100\n",
            "\u001b[1m174/174\u001b[0m \u001b[32m━━━━━━━━━━━━━━━━━━━━\u001b[0m\u001b[37m\u001b[0m \u001b[1m1s\u001b[0m 6ms/step - loss: 0.0016 - mape: 3932.2190 - val_loss: 0.0019 - val_mape: 20.6429\n",
            "Epoch 39/100\n",
            "\u001b[1m174/174\u001b[0m \u001b[32m━━━━━━━━━━━━━━━━━━━━\u001b[0m\u001b[37m\u001b[0m \u001b[1m1s\u001b[0m 6ms/step - loss: 0.0016 - mape: 4532.3872 - val_loss: 0.0015 - val_mape: 15.3832\n",
            "Epoch 40/100\n",
            "\u001b[1m174/174\u001b[0m \u001b[32m━━━━━━━━━━━━━━━━━━━━\u001b[0m\u001b[37m\u001b[0m \u001b[1m1s\u001b[0m 6ms/step - loss: 0.0017 - mape: 6197.4575 - val_loss: 0.0017 - val_mape: 15.4818\n",
            "Epoch 41/100\n",
            "\u001b[1m174/174\u001b[0m \u001b[32m━━━━━━━━━━━━━━━━━━━━\u001b[0m\u001b[37m\u001b[0m \u001b[1m1s\u001b[0m 5ms/step - loss: 0.0016 - mape: 2475.0613 - val_loss: 0.0016 - val_mape: 15.3730\n",
            "Epoch 42/100\n",
            "\u001b[1m174/174\u001b[0m \u001b[32m━━━━━━━━━━━━━━━━━━━━\u001b[0m\u001b[37m\u001b[0m \u001b[1m1s\u001b[0m 5ms/step - loss: 0.0016 - mape: 6904.5747 - val_loss: 0.0015 - val_mape: 15.2492\n",
            "Epoch 43/100\n",
            "\u001b[1m174/174\u001b[0m \u001b[32m━━━━━━━━━━━━━━━━━━━━\u001b[0m\u001b[37m\u001b[0m \u001b[1m1s\u001b[0m 6ms/step - loss: 0.0016 - mape: 3699.1587 - val_loss: 0.0022 - val_mape: 16.5408\n",
            "Epoch 44/100\n",
            "\u001b[1m174/174\u001b[0m \u001b[32m━━━━━━━━━━━━━━━━━━━━\u001b[0m\u001b[37m\u001b[0m \u001b[1m1s\u001b[0m 6ms/step - loss: 0.0016 - mape: 35187.8984 - val_loss: 0.0014 - val_mape: 16.7065\n",
            "Epoch 45/100\n",
            "\u001b[1m174/174\u001b[0m \u001b[32m━━━━━━━━━━━━━━━━━━━━\u001b[0m\u001b[37m\u001b[0m \u001b[1m2s\u001b[0m 8ms/step - loss: 0.0015 - mape: 1154.3254 - val_loss: 0.0014 - val_mape: 16.0707\n",
            "Epoch 46/100\n",
            "\u001b[1m174/174\u001b[0m \u001b[32m━━━━━━━━━━━━━━━━━━━━\u001b[0m\u001b[37m\u001b[0m \u001b[1m2s\u001b[0m 5ms/step - loss: 0.0016 - mape: 4912.9727 - val_loss: 0.0014 - val_mape: 18.4362\n",
            "Epoch 47/100\n",
            "\u001b[1m174/174\u001b[0m \u001b[32m━━━━━━━━━━━━━━━━━━━━\u001b[0m\u001b[37m\u001b[0m \u001b[1m1s\u001b[0m 5ms/step - loss: 0.0015 - mape: 4664.6919 - val_loss: 0.0018 - val_mape: 15.4864\n",
            "Epoch 48/100\n",
            "\u001b[1m174/174\u001b[0m \u001b[32m━━━━━━━━━━━━━━━━━━━━\u001b[0m\u001b[37m\u001b[0m \u001b[1m1s\u001b[0m 5ms/step - loss: 0.0015 - mape: 212.8389 - val_loss: 0.0016 - val_mape: 19.5825\n",
            "Epoch 49/100\n",
            "\u001b[1m174/174\u001b[0m \u001b[32m━━━━━━━━━━━━━━━━━━━━\u001b[0m\u001b[37m\u001b[0m \u001b[1m1s\u001b[0m 7ms/step - loss: 0.0016 - mape: 409.8990 - val_loss: 0.0020 - val_mape: 19.8176\n",
            "Epoch 50/100\n",
            "\u001b[1m174/174\u001b[0m \u001b[32m━━━━━━━━━━━━━━━━━━━━\u001b[0m\u001b[37m\u001b[0m \u001b[1m1s\u001b[0m 5ms/step - loss: 0.0015 - mape: 1091.2301 - val_loss: 0.0014 - val_mape: 17.2153\n",
            "Epoch 51/100\n",
            "\u001b[1m174/174\u001b[0m \u001b[32m━━━━━━━━━━━━━━━━━━━━\u001b[0m\u001b[37m\u001b[0m \u001b[1m1s\u001b[0m 6ms/step - loss: 0.0015 - mape: 1488.8551 - val_loss: 0.0014 - val_mape: 17.0944\n",
            "Epoch 52/100\n",
            "\u001b[1m174/174\u001b[0m \u001b[32m━━━━━━━━━━━━━━━━━━━━\u001b[0m\u001b[37m\u001b[0m \u001b[1m1s\u001b[0m 5ms/step - loss: 0.0015 - mape: 2202.9856 - val_loss: 0.0014 - val_mape: 17.8990\n",
            "Epoch 53/100\n",
            "\u001b[1m174/174\u001b[0m \u001b[32m━━━━━━━━━━━━━━━━━━━━\u001b[0m\u001b[37m\u001b[0m \u001b[1m1s\u001b[0m 6ms/step - loss: 0.0016 - mape: 1574.3629 - val_loss: 0.0014 - val_mape: 14.8197\n",
            "Epoch 54/100\n",
            "\u001b[1m174/174\u001b[0m \u001b[32m━━━━━━━━━━━━━━━━━━━━\u001b[0m\u001b[37m\u001b[0m \u001b[1m2s\u001b[0m 8ms/step - loss: 0.0015 - mape: 3299.9951 - val_loss: 0.0015 - val_mape: 14.8614\n",
            "Epoch 55/100\n",
            "\u001b[1m174/174\u001b[0m \u001b[32m━━━━━━━━━━━━━━━━━━━━\u001b[0m\u001b[37m\u001b[0m \u001b[1m2s\u001b[0m 6ms/step - loss: 0.0015 - mape: 11469.7314 - val_loss: 0.0015 - val_mape: 17.3050\n",
            "Epoch 56/100\n",
            "\u001b[1m174/174\u001b[0m \u001b[32m━━━━━━━━━━━━━━━━━━━━\u001b[0m\u001b[37m\u001b[0m \u001b[1m2s\u001b[0m 7ms/step - loss: 0.0015 - mape: 6223.7563 - val_loss: 0.0015 - val_mape: 19.3044\n",
            "Epoch 57/100\n",
            "\u001b[1m174/174\u001b[0m \u001b[32m━━━━━━━━━━━━━━━━━━━━\u001b[0m\u001b[37m\u001b[0m \u001b[1m2s\u001b[0m 5ms/step - loss: 0.0015 - mape: 14593.4141 - val_loss: 0.0013 - val_mape: 15.5423\n",
            "Epoch 58/100\n",
            "\u001b[1m174/174\u001b[0m \u001b[32m━━━━━━━━━━━━━━━━━━━━\u001b[0m\u001b[37m\u001b[0m \u001b[1m1s\u001b[0m 5ms/step - loss: 0.0014 - mape: 5863.4624 - val_loss: 0.0016 - val_mape: 14.8423\n",
            "Epoch 59/100\n",
            "\u001b[1m174/174\u001b[0m \u001b[32m━━━━━━━━━━━━━━━━━━━━\u001b[0m\u001b[37m\u001b[0m \u001b[1m1s\u001b[0m 6ms/step - loss: 0.0015 - mape: 6642.5176 - val_loss: 0.0013 - val_mape: 15.0181\n",
            "Epoch 60/100\n",
            "\u001b[1m174/174\u001b[0m \u001b[32m━━━━━━━━━━━━━━━━━━━━\u001b[0m\u001b[37m\u001b[0m \u001b[1m1s\u001b[0m 5ms/step - loss: 0.0015 - mape: 24292.0293 - val_loss: 0.0014 - val_mape: 16.4500\n",
            "Epoch 61/100\n",
            "\u001b[1m174/174\u001b[0m \u001b[32m━━━━━━━━━━━━━━━━━━━━\u001b[0m\u001b[37m\u001b[0m \u001b[1m1s\u001b[0m 5ms/step - loss: 0.0014 - mape: 5131.2788 - val_loss: 0.0015 - val_mape: 17.8465\n",
            "Epoch 62/100\n",
            "\u001b[1m174/174\u001b[0m \u001b[32m━━━━━━━━━━━━━━━━━━━━\u001b[0m\u001b[37m\u001b[0m \u001b[1m1s\u001b[0m 6ms/step - loss: 0.0015 - mape: 20823.9473 - val_loss: 0.0014 - val_mape: 17.4580\n",
            "Epoch 63/100\n",
            "\u001b[1m174/174\u001b[0m \u001b[32m━━━━━━━━━━━━━━━━━━━━\u001b[0m\u001b[37m\u001b[0m \u001b[1m1s\u001b[0m 8ms/step - loss: 0.0015 - mape: 4573.2021 - val_loss: 0.0013 - val_mape: 16.0997\n",
            "Epoch 64/100\n",
            "\u001b[1m174/174\u001b[0m \u001b[32m━━━━━━━━━━━━━━━━━━━━\u001b[0m\u001b[37m\u001b[0m \u001b[1m2s\u001b[0m 5ms/step - loss: 0.0015 - mape: 2587.7471 - val_loss: 0.0015 - val_mape: 17.6164\n",
            "Epoch 65/100\n",
            "\u001b[1m174/174\u001b[0m \u001b[32m━━━━━━━━━━━━━━━━━━━━\u001b[0m\u001b[37m\u001b[0m \u001b[1m1s\u001b[0m 6ms/step - loss: 0.0015 - mape: 4782.5439 - val_loss: 0.0013 - val_mape: 15.0671\n",
            "Epoch 66/100\n",
            "\u001b[1m174/174\u001b[0m \u001b[32m━━━━━━━━━━━━━━━━━━━━\u001b[0m\u001b[37m\u001b[0m \u001b[1m1s\u001b[0m 5ms/step - loss: 0.0015 - mape: 6882.9893 - val_loss: 0.0015 - val_mape: 14.4910\n",
            "Epoch 67/100\n",
            "\u001b[1m174/174\u001b[0m \u001b[32m━━━━━━━━━━━━━━━━━━━━\u001b[0m\u001b[37m\u001b[0m \u001b[1m1s\u001b[0m 8ms/step - loss: 0.0015 - mape: 603.9177 - val_loss: 0.0013 - val_mape: 14.3010\n",
            "Epoch 68/100\n",
            "\u001b[1m174/174\u001b[0m \u001b[32m━━━━━━━━━━━━━━━━━━━━\u001b[0m\u001b[37m\u001b[0m \u001b[1m2s\u001b[0m 6ms/step - loss: 0.0014 - mape: 12559.1104 - val_loss: 0.0013 - val_mape: 14.5961\n",
            "Epoch 69/100\n",
            "\u001b[1m174/174\u001b[0m \u001b[32m━━━━━━━━━━━━━━━━━━━━\u001b[0m\u001b[37m\u001b[0m \u001b[1m1s\u001b[0m 5ms/step - loss: 0.0014 - mape: 1862.7885 - val_loss: 0.0014 - val_mape: 16.1076\n",
            "Epoch 70/100\n",
            "\u001b[1m174/174\u001b[0m \u001b[32m━━━━━━━━━━━━━━━━━━━━\u001b[0m\u001b[37m\u001b[0m \u001b[1m1s\u001b[0m 5ms/step - loss: 0.0014 - mape: 1719.3627 - val_loss: 0.0013 - val_mape: 14.6779\n",
            "Epoch 71/100\n",
            "\u001b[1m174/174\u001b[0m \u001b[32m━━━━━━━━━━━━━━━━━━━━\u001b[0m\u001b[37m\u001b[0m \u001b[1m1s\u001b[0m 6ms/step - loss: 0.0014 - mape: 1781.9891 - val_loss: 0.0017 - val_mape: 14.8968\n",
            "Epoch 72/100\n",
            "\u001b[1m174/174\u001b[0m \u001b[32m━━━━━━━━━━━━━━━━━━━━\u001b[0m\u001b[37m\u001b[0m \u001b[1m1s\u001b[0m 8ms/step - loss: 0.0014 - mape: 13690.3887 - val_loss: 0.0012 - val_mape: 14.8717\n",
            "Epoch 73/100\n",
            "\u001b[1m174/174\u001b[0m \u001b[32m━━━━━━━━━━━━━━━━━━━━\u001b[0m\u001b[37m\u001b[0m \u001b[1m2s\u001b[0m 9ms/step - loss: 0.0014 - mape: 1419.1012 - val_loss: 0.0013 - val_mape: 14.1210\n",
            "Epoch 74/100\n",
            "\u001b[1m174/174\u001b[0m \u001b[32m━━━━━━━━━━━━━━━━━━━━\u001b[0m\u001b[37m\u001b[0m \u001b[1m1s\u001b[0m 6ms/step - loss: 0.0015 - mape: 1882.6472 - val_loss: 0.0014 - val_mape: 16.4366\n",
            "Epoch 75/100\n",
            "\u001b[1m174/174\u001b[0m \u001b[32m━━━━━━━━━━━━━━━━━━━━\u001b[0m\u001b[37m\u001b[0m \u001b[1m1s\u001b[0m 5ms/step - loss: 0.0014 - mape: 5503.7720 - val_loss: 0.0012 - val_mape: 14.4854\n",
            "Epoch 76/100\n",
            "\u001b[1m174/174\u001b[0m \u001b[32m━━━━━━━━━━━━━━━━━━━━\u001b[0m\u001b[37m\u001b[0m \u001b[1m1s\u001b[0m 5ms/step - loss: 0.0014 - mape: 17819.4434 - val_loss: 0.0013 - val_mape: 16.4589\n",
            "Epoch 77/100\n",
            "\u001b[1m174/174\u001b[0m \u001b[32m━━━━━━━━━━━━━━━━━━━━\u001b[0m\u001b[37m\u001b[0m \u001b[1m1s\u001b[0m 6ms/step - loss: 0.0014 - mape: 20427.1523 - val_loss: 0.0012 - val_mape: 15.1638\n",
            "Epoch 78/100\n",
            "\u001b[1m174/174\u001b[0m \u001b[32m━━━━━━━━━━━━━━━━━━━━\u001b[0m\u001b[37m\u001b[0m \u001b[1m1s\u001b[0m 6ms/step - loss: 0.0014 - mape: 236.5194 - val_loss: 0.0012 - val_mape: 14.0445\n",
            "Epoch 79/100\n",
            "\u001b[1m174/174\u001b[0m \u001b[32m━━━━━━━━━━━━━━━━━━━━\u001b[0m\u001b[37m\u001b[0m \u001b[1m1s\u001b[0m 5ms/step - loss: 0.0014 - mape: 1684.9016 - val_loss: 0.0012 - val_mape: 14.4487\n",
            "Epoch 80/100\n",
            "\u001b[1m174/174\u001b[0m \u001b[32m━━━━━━━━━━━━━━━━━━━━\u001b[0m\u001b[37m\u001b[0m \u001b[1m1s\u001b[0m 6ms/step - loss: 0.0013 - mape: 2309.7102 - val_loss: 0.0012 - val_mape: 15.6192\n",
            "Epoch 81/100\n",
            "\u001b[1m174/174\u001b[0m \u001b[32m━━━━━━━━━━━━━━━━━━━━\u001b[0m\u001b[37m\u001b[0m \u001b[1m1s\u001b[0m 5ms/step - loss: 0.0013 - mape: 3000.7109 - val_loss: 0.0019 - val_mape: 22.4075\n",
            "Epoch 82/100\n",
            "\u001b[1m174/174\u001b[0m \u001b[32m━━━━━━━━━━━━━━━━━━━━\u001b[0m\u001b[37m\u001b[0m \u001b[1m1s\u001b[0m 5ms/step - loss: 0.0014 - mape: 2109.8423 - val_loss: 0.0012 - val_mape: 13.6018\n",
            "Epoch 83/100\n",
            "\u001b[1m174/174\u001b[0m \u001b[32m━━━━━━━━━━━━━━━━━━━━\u001b[0m\u001b[37m\u001b[0m \u001b[1m1s\u001b[0m 7ms/step - loss: 0.0014 - mape: 1657.8369 - val_loss: 0.0012 - val_mape: 15.1240\n",
            "Epoch 84/100\n",
            "\u001b[1m174/174\u001b[0m \u001b[32m━━━━━━━━━━━━━━━━━━━━\u001b[0m\u001b[37m\u001b[0m \u001b[1m1s\u001b[0m 8ms/step - loss: 0.0012 - mape: 3356.6543 - val_loss: 0.0012 - val_mape: 13.3146\n",
            "Epoch 85/100\n",
            "\u001b[1m174/174\u001b[0m \u001b[32m━━━━━━━━━━━━━━━━━━━━\u001b[0m\u001b[37m\u001b[0m \u001b[1m1s\u001b[0m 7ms/step - loss: 0.0013 - mape: 14672.7100 - val_loss: 0.0013 - val_mape: 17.5345\n",
            "Epoch 86/100\n",
            "\u001b[1m174/174\u001b[0m \u001b[32m━━━━━━━━━━━━━━━━━━━━\u001b[0m\u001b[37m\u001b[0m \u001b[1m1s\u001b[0m 6ms/step - loss: 0.0013 - mape: 6063.1440 - val_loss: 0.0016 - val_mape: 14.1653\n",
            "Epoch 87/100\n",
            "\u001b[1m174/174\u001b[0m \u001b[32m━━━━━━━━━━━━━━━━━━━━\u001b[0m\u001b[37m\u001b[0m \u001b[1m1s\u001b[0m 6ms/step - loss: 0.0013 - mape: 346.4689 - val_loss: 0.0011 - val_mape: 15.5125\n",
            "Epoch 88/100\n",
            "\u001b[1m174/174\u001b[0m \u001b[32m━━━━━━━━━━━━━━━━━━━━\u001b[0m\u001b[37m\u001b[0m \u001b[1m1s\u001b[0m 6ms/step - loss: 0.0012 - mape: 7866.6040 - val_loss: 0.0011 - val_mape: 15.4943\n",
            "Epoch 89/100\n",
            "\u001b[1m174/174\u001b[0m \u001b[32m━━━━━━━━━━━━━━━━━━━━\u001b[0m\u001b[37m\u001b[0m \u001b[1m1s\u001b[0m 6ms/step - loss: 0.0012 - mape: 2500.8289 - val_loss: 0.0013 - val_mape: 12.8691\n",
            "Epoch 90/100\n",
            "\u001b[1m174/174\u001b[0m \u001b[32m━━━━━━━━━━━━━━━━━━━━\u001b[0m\u001b[37m\u001b[0m \u001b[1m1s\u001b[0m 6ms/step - loss: 0.0013 - mape: 2074.4329 - val_loss: 0.0011 - val_mape: 12.6574\n",
            "Epoch 91/100\n",
            "\u001b[1m174/174\u001b[0m \u001b[32m━━━━━━━━━━━━━━━━━━━━\u001b[0m\u001b[37m\u001b[0m \u001b[1m1s\u001b[0m 6ms/step - loss: 0.0012 - mape: 1018.0051 - val_loss: 0.0011 - val_mape: 12.5533\n",
            "Epoch 92/100\n",
            "\u001b[1m174/174\u001b[0m \u001b[32m━━━━━━━━━━━━━━━━━━━━\u001b[0m\u001b[37m\u001b[0m \u001b[1m1s\u001b[0m 6ms/step - loss: 0.0013 - mape: 4256.9678 - val_loss: 0.0013 - val_mape: 12.9623\n",
            "Epoch 93/100\n",
            "\u001b[1m174/174\u001b[0m \u001b[32m━━━━━━━━━━━━━━━━━━━━\u001b[0m\u001b[37m\u001b[0m \u001b[1m1s\u001b[0m 6ms/step - loss: 0.0011 - mape: 5675.6523 - val_loss: 0.0010 - val_mape: 12.8351\n",
            "Epoch 94/100\n",
            "\u001b[1m174/174\u001b[0m \u001b[32m━━━━━━━━━━━━━━━━━━━━\u001b[0m\u001b[37m\u001b[0m \u001b[1m1s\u001b[0m 7ms/step - loss: 0.0012 - mape: 1211.1532 - val_loss: 0.0011 - val_mape: 14.7309\n",
            "Epoch 95/100\n",
            "\u001b[1m174/174\u001b[0m \u001b[32m━━━━━━━━━━━━━━━━━━━━\u001b[0m\u001b[37m\u001b[0m \u001b[1m2s\u001b[0m 8ms/step - loss: 0.0011 - mape: 3609.6631 - val_loss: 0.0013 - val_mape: 18.4468\n",
            "Epoch 96/100\n",
            "\u001b[1m174/174\u001b[0m \u001b[32m━━━━━━━━━━━━━━━━━━━━\u001b[0m\u001b[37m\u001b[0m \u001b[1m2s\u001b[0m 6ms/step - loss: 0.0012 - mape: 11371.4512 - val_loss: 0.0016 - val_mape: 18.2866\n",
            "Epoch 97/100\n",
            "\u001b[1m174/174\u001b[0m \u001b[32m━━━━━━━━━━━━━━━━━━━━\u001b[0m\u001b[37m\u001b[0m \u001b[1m1s\u001b[0m 6ms/step - loss: 0.0011 - mape: 3629.3557 - val_loss: 0.0011 - val_mape: 12.2635\n",
            "Epoch 98/100\n",
            "\u001b[1m174/174\u001b[0m \u001b[32m━━━━━━━━━━━━━━━━━━━━\u001b[0m\u001b[37m\u001b[0m \u001b[1m1s\u001b[0m 6ms/step - loss: 0.0011 - mape: 832.9617 - val_loss: 0.0011 - val_mape: 12.3663\n",
            "Epoch 99/100\n",
            "\u001b[1m174/174\u001b[0m \u001b[32m━━━━━━━━━━━━━━━━━━━━\u001b[0m\u001b[37m\u001b[0m \u001b[1m1s\u001b[0m 6ms/step - loss: 0.0012 - mape: 3930.3345 - val_loss: 0.0011 - val_mape: 12.8179\n",
            "Epoch 100/100\n",
            "\u001b[1m174/174\u001b[0m \u001b[32m━━━━━━━━━━━━━━━━━━━━\u001b[0m\u001b[37m\u001b[0m \u001b[1m1s\u001b[0m 5ms/step - loss: 0.0011 - mape: 185.0484 - val_loss: 0.0015 - val_mape: 19.1600\n"
          ]
        },
        {
          "output_type": "stream",
          "name": "stderr",
          "text": [
            "WARNING:absl:You are saving your model as an HDF5 file via `model.save()` or `keras.saving.save_model(model)`. This file format is considered legacy. We recommend using instead the native Keras format, e.g. `model.save('my_model.keras')` or `keras.saving.save_model(model, 'my_model.keras')`. \n"
          ]
        }
      ]
    },
    {
      "cell_type": "markdown",
      "source": [
        "# Predict\n"
      ],
      "metadata": {
        "id": "YcDEuoKKaKoc"
      }
    },
    {
      "cell_type": "code",
      "source": [
        "import math\n",
        "import warnings\n",
        "import numpy as np\n",
        "import pandas as pd\n",
        "from keras.models import load_model\n",
        "from tensorflow.keras.utils import plot_model\n",
        "import sklearn.metrics as metrics\n",
        "import matplotlib as mpl\n",
        "import matplotlib.pyplot as plt\n",
        "from keras.losses import MeanSquaredError\n",
        "from keras.metrics import MeanAbsolutePercentageError\n",
        "warnings.filterwarnings(\"ignore\")\n",
        "\n",
        "\n",
        "def MAPE(y_true, y_pred):\n",
        "    \"\"\"Mean Absolute Percentage Error\n",
        "    Calculate the mape.\n",
        "\n",
        "    # Arguments\n",
        "        y_true: List/ndarray, ture data.\n",
        "        y_pred: List/ndarray, predicted data.\n",
        "    # Returns\n",
        "        mape: Double, result data for train.\n",
        "    \"\"\"\n",
        "\n",
        "    y = [x for x in y_true if x > 0]\n",
        "    y_pred = [y_pred[i] for i in range(len(y_true)) if y_true[i] > 0]\n",
        "\n",
        "    num = len(y_pred)\n",
        "    sums = 0\n",
        "\n",
        "    for i in range(num):\n",
        "        tmp = abs(y[i] - y_pred[i]) / y[i]\n",
        "        sums += tmp\n",
        "\n",
        "    mape = sums * (100 / num)\n",
        "\n",
        "    return mape\n",
        "\n",
        "\n",
        "def eva_regress(y_true, y_pred):\n",
        "    \"\"\"Evaluation\n",
        "    evaluate the predicted resul.\n",
        "\n",
        "    # Arguments\n",
        "        y_true: List/ndarray, ture data.\n",
        "        y_pred: List/ndarray, predicted data.\n",
        "    \"\"\"\n",
        "\n",
        "    mape = MAPE(y_true, y_pred)\n",
        "    vs = metrics.explained_variance_score(y_true, y_pred)\n",
        "    mae = metrics.mean_absolute_error(y_true, y_pred)\n",
        "    mse = metrics.mean_squared_error(y_true, y_pred)\n",
        "    r2 = metrics.r2_score(y_true, y_pred)\n",
        "    print('explained_variance_score:%f' % vs)\n",
        "    print('mape:%f%%' % mape)\n",
        "    print('mae:%f' % mae)\n",
        "    print('mse:%f' % mse)\n",
        "    print('rmse:%f' % math.sqrt(mse))\n",
        "    print('r2:%f' % r2)\n",
        "\n",
        "\n",
        "def plot_results(y_true, y_preds, names):\n",
        "    \"\"\"Plot\n",
        "    Plot the true data and predicted data.\n",
        "\n",
        "    # Arguments\n",
        "        y_true: List/ndarray, ture data.\n",
        "        y_pred: List/ndarray, predicted data.\n",
        "        names: List, Method names.\n",
        "    \"\"\"\n",
        "    d = '2016-3-4 00:00'\n",
        "    x = pd.date_range(d, periods=288, freq='5min')\n",
        "\n",
        "    fig = plt.figure()\n",
        "    ax = fig.add_subplot(111)\n",
        "\n",
        "    ax.plot(x, y_true, label='True Data')\n",
        "    for name, y_pred in zip(names, y_preds):\n",
        "        ax.plot(x, y_pred, label=name)\n",
        "\n",
        "    plt.legend()\n",
        "    plt.grid(True)\n",
        "    plt.xlabel('Time of Day')\n",
        "    plt.ylabel('Flow')\n",
        "\n",
        "    date_format = mpl.dates.DateFormatter(\"%H:%M\")\n",
        "    ax.xaxis.set_major_formatter(date_format)\n",
        "    fig.autofmt_xdate()\n",
        "\n",
        "    plt.show()"
      ],
      "metadata": {
        "id": "NsnK6z2ar0lz"
      },
      "execution_count": null,
      "outputs": []
    },
    {
      "cell_type": "code",
      "source": [
        "\n",
        "custom_objects = {\n",
        "    'mse': MeanSquaredError(),\n",
        "    'mape': MeanAbsolutePercentageError()\n",
        "}\n",
        "\n",
        "gru = load_model('/content/drive/MyDrive/GRU/Test/Model/gru_manual_run.h5', custom_objects=custom_objects)\n",
        "lag = 12\n",
        "file1 = '/content/drive/MyDrive/GRU/Test/Model/Data/train.csv'\n",
        "file2 = '/content/drive/MyDrive/GRU/Test/Model/Data/test.csv'\n",
        "X_test, y_test, _, _, scaler = process_data(file1, file2, lag)\n",
        "y_test = scaler.inverse_transform(y_test.reshape(-1, 1)).reshape(1, -1)[0]\n",
        "\n",
        "y_preds = []\n",
        "\n",
        "X_test = np.reshape(X_test, (X_test.shape[0], X_test.shape[1], 1))\n",
        "\n",
        "name = 'GRU'\n",
        "model = gru\n",
        "\n",
        "file = '/content/drive/MyDrive/GRU/Test/' + name + '.png'\n",
        "plot_model(model, to_file=file, show_shapes=True)\n",
        "predicted = model.predict(X_test)\n",
        "predicted = scaler.inverse_transform(predicted.reshape(-1, 1)).reshape(1, -1)[0]\n",
        "y_preds.append(predicted[:288])\n",
        "print(name)\n",
        "eva_regress(y_test, predicted)\n"
      ],
      "metadata": {
        "colab": {
          "base_uri": "https://localhost:8080/"
        },
        "id": "rdnqhRrMzjbL",
        "outputId": "a2b7533e-4076-4e0b-b134-cb3b597298f9",
        "collapsed": true
      },
      "execution_count": null,
      "outputs": [
        {
          "output_type": "stream",
          "name": "stderr",
          "text": [
            "WARNING:absl:Compiled the loaded model, but the compiled metrics have yet to be built. `model.compile_metrics` will be empty until you train or evaluate the model.\n"
          ]
        },
        {
          "output_type": "stream",
          "name": "stdout",
          "text": [
            "\u001b[1m13140/13140\u001b[0m \u001b[32m━━━━━━━━━━━━━━━━━━━━\u001b[0m\u001b[37m\u001b[0m \u001b[1m53s\u001b[0m 4ms/step\n",
            "GRU\n",
            "explained_variance_score:-0.002747\n",
            "mape:191.108468%\n",
            "mae:9.150502\n",
            "mse:144.829706\n",
            "rmse:12.034521\n",
            "r2:-0.002766\n"
          ]
        }
      ]
    },
    {
      "cell_type": "code",
      "source": [
        "\n",
        "custom_objects = {\n",
        "    'mse': MeanSquaredError(),\n",
        "    'mape': MeanAbsolutePercentageError()\n",
        "}\n",
        "\n",
        "lstm = load_model('/content/drive/MyDrive/GRU/Test/Model/lstm_model.h5', custom_objects=custom_objects)\n",
        "lag = 12\n",
        "file1 = '/content/drive/MyDrive/GRU/Test/Data/train_data.csv'\n",
        "file2 = '/content/drive/MyDrive/GRU/Test/Data/test_data.csv'\n",
        "X_test, y_test, _, _, scaler = process_data(file1, file2, lag)\n",
        "y_test = scaler.inverse_transform(y_test.reshape(-1, 1)).reshape(1, -1)[0]\n",
        "\n",
        "y_preds = []\n",
        "\n",
        "X_test = np.reshape(X_test, (X_test.shape[0], X_test.shape[1], 1))\n",
        "\n",
        "name = 'LSTM'\n",
        "model = lstm\n",
        "\n",
        "file = '/content/drive/MyDrive/GRU/Test/' + name + '.png'\n",
        "plot_model(model, to_file=file, show_shapes=True)\n",
        "predicted = model.predict(X_test)\n",
        "predicted = scaler.inverse_transform(predicted.reshape(-1, 1)).reshape(1, -1)[0]\n",
        "y_preds.append(predicted[:288])\n",
        "print(name)\n",
        "eva_regress(y_test, predicted)"
      ],
      "metadata": {
        "colab": {
          "base_uri": "https://localhost:8080/"
        },
        "id": "plRJHR52zrWW",
        "outputId": "242ae673-b577-430e-d553-c4f8a2d0bbe3"
      },
      "execution_count": null,
      "outputs": [
        {
          "output_type": "stream",
          "name": "stderr",
          "text": [
            "WARNING:absl:Compiled the loaded model, but the compiled metrics have yet to be built. `model.compile_metrics` will be empty until you train or evaluate the model.\n"
          ]
        },
        {
          "output_type": "stream",
          "name": "stdout",
          "text": [
            "\u001b[1m365/365\u001b[0m \u001b[32m━━━━━━━━━━━━━━━━━━━━\u001b[0m\u001b[37m\u001b[0m \u001b[1m1s\u001b[0m 3ms/step\n",
            "LSTM\n",
            "explained_variance_score:0.938649\n",
            "mape:15.137303%\n",
            "mae:4.629972\n",
            "mse:33.626882\n",
            "rmse:5.798869\n",
            "r2:0.908829\n"
          ]
        }
      ]
    },
    {
      "cell_type": "code",
      "source": [
        "plot_results(y_test[: 288], y_preds, name)"
      ],
      "metadata": {
        "id": "yCf-PEQMz3D2",
        "outputId": "faf42e8d-3a7a-4fa0-dac6-780a163bb693",
        "colab": {
          "base_uri": "https://localhost:8080/",
          "height": 424
        }
      },
      "execution_count": null,
      "outputs": [
        {
          "output_type": "display_data",
          "data": {
            "text/plain": [
              "<Figure size 640x480 with 1 Axes>"
            ],
            "image/png": "[encoded data removed]"
          },
          "metadata": {}
        }
      ]
    },
    {
      "cell_type": "markdown",
      "source": [
        "# predict tương lai"
      ],
      "metadata": {
        "id": "EDEW3BINrgyS"
      }
    },
    {
      "cell_type": "code",
      "source": [
        "def forecast_future(model, data_scaled, scaler, seq_len, n_steps):\n",
        "    \"\"\"\n",
        "    model       : mô hình Keras đã huấn luyện\n",
        "    data_scaled : toàn bộ chuỗi dữ liệu đã được scaler.transform, 1-D array\n",
        "    scaler      : scaler dùng để scale data (MinMaxScaler hoặc StandardScaler)\n",
        "    seq_len     : độ dài cửa sổ (ví dụ 96)\n",
        "    n_steps     : số bước tương lai cần dự báo\n",
        "    \"\"\"\n",
        "    predictions = []\n",
        "    recent = list(data_scaled[-seq_len:])  # chỉ lấy đúng seq_len giá trị cuối cùng\n",
        "\n",
        "    for _ in range(n_steps):\n",
        "        # reshape về input cho model: (1, seq_len, 1)\n",
        "        x_input = np.array(recent[-seq_len:]).reshape(1, seq_len, 1)\n",
        "\n",
        "        # dự báo 1 bước\n",
        "        yhat = model.predict(x_input, verbose=0)\n",
        "\n",
        "        # yhat là mảng shape (1, 1) hoặc (1, pred_len) nếu multi-step output\n",
        "        # Ở đây giả sử 1 output\n",
        "        recent.append(yhat[0][0])\n",
        "\n",
        "        # chuyển về scale gốc và lưu\n",
        "        inv = scaler.inverse_transform(np.array(yhat).reshape(-1, 1))\n",
        "        predictions.append(inv[0][0])\n",
        "\n",
        "    return predictions\n"
      ],
      "metadata": {
        "id": "8c_gkHsdYz1z"
      },
      "execution_count": null,
      "outputs": []
    },
    {
      "cell_type": "code",
      "source": [
        "\n",
        "custom_objects = {\n",
        "    'mse': MeanSquaredError(),\n",
        "    'mape': MeanAbsolutePercentageError()\n",
        "}\n",
        "\n",
        "gru = load_model('/content/drive/MyDrive/GRU/Test/Model/gru_manual_run.h5', custom_objects=custom_objects)"
      ],
      "metadata": {
        "colab": {
          "base_uri": "https://localhost:8080/"
        },
        "id": "BxxIhPV6utEL",
        "outputId": "3adfdb32-0743-4f29-ab68-6d334a0d64ec"
      },
      "execution_count": null,
      "outputs": [
        {
          "output_type": "stream",
          "name": "stderr",
          "text": [
            "WARNING:absl:Compiled the loaded model, but the compiled metrics have yet to be built. `model.compile_metrics` will be empty until you train or evaluate the model.\n"
          ]
        }
      ]
    },
    {
      "cell_type": "code",
      "source": [
        "import pandas as pd\n",
        "import numpy as np\n",
        "from sklearn.preprocessing import StandardScaler, MinMaxScaler\n",
        "\n",
        "file3 = '/content/drive/MyDrive/DetectionTest/csv/vehicle_region_count.csv'\n",
        "df3 = pd.read_csv(file3, encoding='utf-8').fillna(0)\n",
        "attr = 'total_in_region'\n",
        "scaler_full = MinMaxScaler(feature_range=(0, 1)).fit(df3[attr].values.reshape(-1, 1))\n",
        "X_full_scaled = scaler_full.transform(df3[attr].values.reshape(-1, 1))\n",
        "\n",
        "future_preds = forecast_future(\n",
        "    model=gru,\n",
        "    data_scaled=X_full_scaled.flatten(),\n",
        "    scaler=scaler_full,\n",
        "    seq_len=6,\n",
        "    n_steps=24\n",
        ")\n",
        "\n",
        "print(\"24 bước giá trị tương lai:\", future_preds)"
      ],
      "metadata": {
        "colab": {
          "base_uri": "https://localhost:8080/"
        },
        "id": "-vQpFsU8bX6D",
        "outputId": "1e057cd5-a3c7-4bbe-af5b-b906b59bc70c"
      },
      "execution_count": null,
      "outputs": [
        {
          "output_type": "stream",
          "name": "stdout",
          "text": [
            "24 bước giá trị tương lai: [np.float32(0.25143334), np.float32(0.25121188), np.float32(0.25110546), np.float32(0.25105432), np.float32(0.25103074), np.float32(0.25102052), np.float32(0.2510165), np.float32(0.25101653), np.float32(0.25101653), np.float32(0.25101653), np.float32(0.25101653), np.float32(0.25101653), np.float32(0.25101653), np.float32(0.25101653), np.float32(0.25101653), np.float32(0.25101653), np.float32(0.25101653), np.float32(0.25101653), np.float32(0.25101653), np.float32(0.25101653), np.float32(0.25101653), np.float32(0.25101653), np.float32(0.25101653), np.float32(0.25101653)]\n"
          ]
        }
      ]
    }
  ]
}